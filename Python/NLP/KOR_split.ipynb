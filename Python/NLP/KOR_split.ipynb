{
 "cells": [
  {
   "cell_type": "code",
   "execution_count": 4,
   "metadata": {},
   "outputs": [],
   "source": [
    "import numpy as np"
   ]
  },
  {
   "cell_type": "code",
   "execution_count": 5,
   "metadata": {},
   "outputs": [],
   "source": [
    "chosung_list = [u'ㄱ',u'ㄲ',u'ㄴ',u'ㄷ',u'ㄸ',u'ㄹ',u'ㅁ',u'ㅂ',u'ㅃ',u'ㅅ',u'ㅆ',u'ㅇ',u'ㅈ',u'ㅉ',u'ㅊ',u'ㅋ',u'ㅌ',u'ㅍ',u'ㅎ']\n",
    "jungsung_list = [u'ㅏ',u'ㅐ',u'ㅑ',u'ㅒ',u'ㅓ',u'ㅔ',u'ㅕ',u'ㅖ',u'ㅗ',u'ㅘ',u'ㅙ',u'ㅚ',u'ㅛ',u'ㅜ',u'ㅝ',u'ㅞ',u'ㅟ',u'ㅠ',u'ㅡ',u'ㅢ',u'ㅣ']\n",
    "jongsung_list = [u'_',u'ㄱ',u'ㄲ',u'ㄳ',u'ㄴ',u'ㄵ',u'ㄶ',u'ㄷ',u'ㄹ',u'ㄺ',u'ㄻ',u'ㄼ',u'ㄽ',u'ㄾ',u'ㄿ',u'ㅀ',u'ㅁ',u'ㅂ',u'ㅄ',u'ㅅ',u'ㅆ',u'ㅇ',u'ㅈ',u'ㅊ',u'ㅋ',u'ㅌ',u'ㅍ',u'ㅎ']\n",
    "\n",
    "# 자모분리\n",
    "def jamo_split(word, end_char=\"_\"):\n",
    "    \n",
    "    result = []\n",
    "    # 문자열을 문자 단위로 \n",
    "    for char in word:\n",
    "        \n",
    "        character_code = ord(char) # ord함수는 문자의 순서 위치 값을 반환(아스키코드)\n",
    "        \n",
    "        # 아스키코드로 한글영역 범위: 0xAC00 ~ 0xD7A3\n",
    "        # 따라서 아래 조건문은 한글이 아닐경우 실행되는 코드\n",
    "        if 0xD7A3 < character_code or character_code < 0xAC00:\n",
    "            result.append(char)\n",
    "            continue\n",
    "\n",
    "        # 한글인 경우 아스키코드를 이용해 초성, 중성, 종성의 인덱스 계산 \n",
    "        # 한글은 초성 19개, 중성 21개, 종성 28개로 이루어져 있음.\n",
    "        # (character_code - 0xAC00) 0xAC00을 기준으로 한글문자의 상대적인 위치를 나타냄\n",
    "\n",
    "        chosung_index = int((((character_code - 0xAC00) / 28) / 21) % 19) # 초성을 계산하기위해 28로 나눈뒤 21로 나눈뒤 19로 나눈 나머지 값\n",
    "        jungsung_index = int(((character_code - 0xAC00) / 28) % 21) # 중성을 계산하기 위해 28로 나눈뒤 21로 나눈 나머지 값\n",
    "        jongsung_index = int((character_code - 0xAC00) % 28) # 종성 계산을 위해 28로 나눔\n",
    "        \n",
    "        # 계산된 인덱스를 이용 -> 각 list에서 해당하는 값을 가져옴\n",
    "        chosung = chosung_list[chosung_index]\n",
    "        joongsung = jungsung_list[jungsung_index]\n",
    "        jongsung = jongsung_list[jongsung_index]\n",
    "        \n",
    "        # 종성이 없는 경우(=종성 인덱스가 0인 경우) end_char('_')로 대체\n",
    "        if jongsung_index == 0:\n",
    "            jongsung = end_char\n",
    "        \n",
    "        result.append(chosung)\n",
    "        result.append(joongsung)\n",
    "        result.append(jongsung)\n",
    "\n",
    "    return \"\".join(result)"
   ]
  },
  {
   "cell_type": "code",
   "execution_count": 6,
   "metadata": {},
   "outputs": [],
   "source": [
    "def levenshtein_distance(str1, str2):\n",
    "    m = len(str1)\n",
    "    n = len(str2)\n",
    "    \n",
    "    # 배열 생성\n",
    "    matrix = np.zeros((m + 1, n + 1), dtype=int)\n",
    "    \n",
    "    # 배열 초기화\n",
    "    matrix[:, 0] = np.arange(m + 1)\n",
    "    matrix[0, :] = np.arange(n + 1)\n",
    "    \n",
    "    # 거리 계산\n",
    "    for i in range(1, m + 1):\n",
    "        for j in range(1, n + 1):\n",
    "            if str1[i - 1] == str2[j - 1]:\n",
    "                matrix[i, j] = matrix[i - 1, j - 1]\n",
    "            else:\n",
    "                matrix[i, j] = min(matrix[i - 1, j], matrix[i, j - 1], matrix[i - 1, j - 1]) + 1\n",
    "    \n",
    "    # Return the minimum edit distance\n",
    "    return matrix[m, n]"
   ]
  },
  {
   "cell_type": "code",
   "execution_count": 11,
   "metadata": {},
   "outputs": [
    {
     "name": "stdout",
     "output_type": "stream",
     "text": [
      "2\n"
     ]
    }
   ],
   "source": [
    "split1 = jamo_split(\"내동생고기\")\n",
    "split2 = jamo_split(\"제동생고기\")\n",
    "\n",
    "dist = levenshtein_distance(split1, split2)\n",
    "print(dist)"
   ]
  },
  {
   "cell_type": "code",
   "execution_count": null,
   "metadata": {},
   "outputs": [],
   "source": []
  }
 ],
 "metadata": {
  "language_info": {
   "name": "python"
  },
  "orig_nbformat": 4
 },
 "nbformat": 4,
 "nbformat_minor": 2
}
