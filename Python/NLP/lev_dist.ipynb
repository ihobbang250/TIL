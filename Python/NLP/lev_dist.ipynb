{
 "cells": [
  {
   "cell_type": "code",
   "execution_count": null,
   "metadata": {},
   "outputs": [],
   "source": [
    "str1 = \"intention\"\n",
    "str2 = \"execution\"\n",
    "cost = 2\n",
    "\n",
    "\n",
    "n = len(str1)+1\n",
    "m = len(str2)+1\n",
    "\n",
    "matrix = [[0]*n\n",
    "          for _ in range(m)]\n",
    "for i in range(n):\n",
    "  matrix[0][i] = i\n",
    "for j in range(m):\n",
    "  matrix[j][0] = j\n",
    "\n",
    "for i in range(1,m):\n",
    "  for j in range(1,n):\n",
    "    if str1[j-1] == str2[i-1]:\n",
    "      matrix[i][j] = matrix[i-1][j-1]\n",
    "    else:\n",
    "      a = matrix[i][j-1]+1\n",
    "      b = matrix[i-1][j]+1\n",
    "      c = matrix[i-1][j-1]+cost\n",
    "      min_num = min(a,b,c)\n",
    "      matrix[i][j] = min_num\n",
    "\n",
    "\n",
    "for i in range(m):\n",
    "  for j in range(n):\n",
    "    print(matrix[i][j], end=\" \")\n",
    "  print()\n",
    "print(matrix[-1][-1])"
   ]
  }
 ],
 "metadata": {
  "language_info": {
   "name": "python"
  },
  "orig_nbformat": 4
 },
 "nbformat": 4,
 "nbformat_minor": 2
}
