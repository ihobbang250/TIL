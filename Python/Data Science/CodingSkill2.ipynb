{
 "cells": [
  {
   "attachments": {},
   "cell_type": "markdown",
   "metadata": {},
   "source": [
    "Python Coding Skills"
   ]
  },
  {
   "cell_type": "code",
   "execution_count": null,
   "metadata": {},
   "outputs": [],
   "source": [
    "# Empty Condition\n",
    "empty_list = []\n",
    "\n",
    "# Bad Expr\n",
    "if len(empty_list) == 0:\n",
    "    print(\"hi1\")\n",
    "\n",
    "# Good Expr\n",
    "if not empty_list:\n",
    "    print(\"hi2\")"
   ]
  },
  {
   "cell_type": "code",
   "execution_count": null,
   "metadata": {},
   "outputs": [],
   "source": [
    "# Unpacking\n",
    "snacks = [(\"Bacon\", 350), (\"Donut\", 240), (\"Muffin\", 190)]\n",
    "\n",
    "# Bad Expr\n",
    "for i in range(len(snacks)):\n",
    "    item = snacks[i]\n",
    "    name = item[0]\n",
    "    calories = item[1]\n",
    "    print(f\"#{i+1}: {name}--->{calories}kcal\")\n",
    "\n",
    "# Good Expr\n",
    "for rank, (name, calories) in enumerate(snacks, 1):\n",
    "    print(f\"#{rank}: {name}--->{calories}kcal\")"
   ]
  },
  {
   "cell_type": "code",
   "execution_count": null,
   "metadata": {},
   "outputs": [],
   "source": [
    "# Zip Method\n",
    "# Multi iterator\n",
    "names = [\"Cecilia\", \"Alex\", \"Gesus\"]\n",
    "counts = [len(n) for n in names]\n",
    "longest_name = None\n",
    "max_count = 0\n",
    "\n",
    "# Bad Expr\n",
    "for i in range(len(names)):\n",
    "    count = counts[i]\n",
    "    if count > max_count:\n",
    "        longest_name = names[i]\n",
    "        max_count = count\n",
    "\n",
    "# Good Expr\n",
    "for name, count in zip(names, counts):\n",
    "    if count > max_count:\n",
    "        longest_name = name\n",
    "        max_count = count"
   ]
  },
  {
   "cell_type": "code",
   "execution_count": 15,
   "metadata": {},
   "outputs": [
    {
     "name": "stdout",
     "output_type": "stream",
     "text": [
      "LemonAde Making->Left:4\n",
      "LemonAde Making->Left:3\n",
      "LemonAde Making->Left:2\n",
      "LemonAde Making->Left:1\n",
      "LemonAde Making->Left:0\n",
      "out_of_stock\n",
      "BananaAde Making->Left:7\n",
      "BananaAde Making->Left:6\n",
      "BananaAde Making->Left:5\n",
      "BananaAde Making->Left:4\n",
      "BananaAde Making->Left:3\n",
      "BananaAde Making->Left:2\n",
      "BananaAde Making->Left:1\n",
      "BananaAde Making->Left:0\n",
      "out_of_stock\n"
     ]
    }
   ],
   "source": [
    "# Walrus Operator\n",
    "fresh_fruit = {\n",
    "    \"Apple\": 10,\n",
    "    \"Banana\": 8,\n",
    "    \"Lemon\": 5\n",
    "}\n",
    "\n",
    "def make_ade(fruit,count):\n",
    "    fresh_fruit[fruit] -= 1\n",
    "    print(f\"{fruit}Ade Making->Left:{fresh_fruit[fruit]}\")\n",
    "\n",
    "def out_of_stock():\n",
    "    print(\"out_of_stock\")\n",
    "\n",
    "# Bad Expr\n",
    "for i in range(fresh_fruit[\"Lemon\"]+1):\n",
    "    count = fresh_fruit.get(\"Lemon\")\n",
    "    if count:\n",
    "        make_ade(\"Lemon\", count)\n",
    "    else:\n",
    "        out_of_stock()\n",
    "\n",
    "# Good Expr\n",
    "for i in range(fresh_fruit[\"Banana\"]+1):\n",
    "    if count := fresh_fruit.get(\"Banana\"):\n",
    "        make_ade(\"Banana\", count)\n",
    "    else:\n",
    "        out_of_stock()\n"
   ]
  }
 ],
 "metadata": {
  "kernelspec": {
   "display_name": "main",
   "language": "python",
   "name": "python3"
  },
  "language_info": {
   "codemirror_mode": {
    "name": "ipython",
    "version": 3
   },
   "file_extension": ".py",
   "mimetype": "text/x-python",
   "name": "python",
   "nbconvert_exporter": "python",
   "pygments_lexer": "ipython3",
   "version": "3.10.8"
  },
  "orig_nbformat": 4,
  "vscode": {
   "interpreter": {
    "hash": "088249665a81e93c8036df710d5b8cf66018793aa44d5d95f913d7290e7bc9d8"
   }
  }
 },
 "nbformat": 4,
 "nbformat_minor": 2
}
