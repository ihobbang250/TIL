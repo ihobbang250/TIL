{
 "cells": [
  {
   "cell_type": "code",
   "execution_count": 1,
   "metadata": {},
   "outputs": [
    {
     "name": "stdout",
     "output_type": "stream",
     "text": [
      "0 1 2 3 4 5 6 7 8 9 \n",
      "1 2 3 4 3 4 5 6 7 8 \n",
      "2 3 4 5 4 5 6 7 8 9 \n",
      "3 4 5 6 5 6 7 8 9 10 \n",
      "4 5 6 7 6 7 8 9 10 11 \n",
      "5 6 7 8 7 8 9 10 11 12 \n",
      "6 7 8 7 8 9 8 9 10 11 \n",
      "7 6 7 8 9 10 9 8 9 10 \n",
      "8 7 8 9 10 11 10 9 8 9 \n",
      "9 8 7 8 9 10 11 10 9 8 \n",
      "8\n"
     ]
    }
   ],
   "source": [
    "str1 = \"intention\"\n",
    "str2 = \"execution\"\n",
    "cost = 2\n",
    "\n",
    "\n",
    "n = len(str1)+1\n",
    "m = len(str2)+1\n",
    "\n",
    "matrix = [[0]*n\n",
    "          for _ in range(m)]\n",
    "for i in range(n):\n",
    "  matrix[0][i] = i\n",
    "for j in range(m):\n",
    "  matrix[j][0] = j\n",
    "\n",
    "for i in range(1,m):\n",
    "  for j in range(1,n):\n",
    "    if str1[j-1] == str2[i-1]:\n",
    "      matrix[i][j] = matrix[i-1][j-1]\n",
    "    else:\n",
    "      a = matrix[i][j-1]+1\n",
    "      b = matrix[i-1][j]+1\n",
    "      c = matrix[i-1][j-1]+cost\n",
    "      min_num = min(a,b,c)\n",
    "      matrix[i][j] = min_num\n",
    "\n",
    "\n",
    "for i in range(m):\n",
    "  for j in range(n):\n",
    "    print(matrix[i][j], end=\" \")\n",
    "  print()\n",
    "print(matrix[-1][-1])"
   ]
  }
 ],
 "metadata": {
  "kernelspec": {
   "display_name": "main",
   "language": "python",
   "name": "python3"
  },
  "language_info": {
   "codemirror_mode": {
    "name": "ipython",
    "version": 3
   },
   "file_extension": ".py",
   "mimetype": "text/x-python",
   "name": "python",
   "nbconvert_exporter": "python",
   "pygments_lexer": "ipython3",
   "version": "3.8.16"
  },
  "orig_nbformat": 4
 },
 "nbformat": 4,
 "nbformat_minor": 2
}
