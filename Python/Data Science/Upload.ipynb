{
 "cells": [
  {
   "cell_type": "code",
   "execution_count": 7,
   "metadata": {},
   "outputs": [
    {
     "name": "stdout",
     "output_type": "stream",
     "text": [
      "\n"
     ]
    }
   ],
   "source": [
    "import requests as req\n",
    "from user_agent import generate_user_agent\n",
    "\n",
    "url = \"https://webhook.site/ce7cfe2f-4a3b-4f68-8bdd-c366d988e3c8\"\n",
    "header = generate_user_agent(os=\"mac\", device_type=\"desktop\")\n",
    "res = req.post(url, headers={'User-Agent': header}, data={\"name\": \"hi\"})\n",
    "print(res.text)"
   ]
  },
  {
   "cell_type": "code",
   "execution_count": 15,
   "metadata": {},
   "outputs": [
    {
     "name": "stdout",
     "output_type": "stream",
     "text": [
      "200\n",
      "{\"data\":{\"id\":\"HkyTkhA\",\"title\":null,\"description\":null,\"datetime\":1674193406,\"type\":\"image\\/png\",\"animated\":false,\"width\":1280,\"height\":512,\"size\":391329,\"views\":0,\"bandwidth\":0,\"vote\":null,\"favorite\":false,\"nsfw\":null,\"section\":null,\"account_url\":null,\"account_id\":0,\"is_ad\":false,\"in_most_viral\":false,\"has_sound\":false,\"tags\":[],\"ad_type\":0,\"ad_url\":\"\",\"edited\":\"0\",\"in_gallery\":false,\"deletehash\":\"ifeOmVyw2XXxcaA\",\"name\":\"\",\"link\":\"https:\\/\\/i.imgur.com\\/HkyTkhA.png\"},\"success\":true,\"status\":200}\n"
     ]
    }
   ],
   "source": [
    "import requests as req\n",
    "\n",
    "url = \"https://api.imgur.com/3/image?client_id=546c25a59c58ad7\"\n",
    "\n",
    "with open(\"달1.png\", \"rb\") as f:\n",
    "    img = f.read()\n",
    "    \n",
    "res = req.post(url, files={\n",
    "    \"image\": img,\n",
    "    \"type\": \"file\",\n",
    "    \"name\": \"달1.png\",\n",
    "})\n",
    "\n",
    "print(res.text)\n",
    "\n",
    "link =  res.json()['data']['link']\n",
    "\n",
    "html = f\"\"\"\n",
    "<html>\n",
    "<head>\n",
    "    <title>방금 업로드한 이미지</title>\n",
    "</head>\n",
    "<body>\n",
    "    <img src=\"{link}\">\n",
    "</body>\n",
    "</html>\n",
    "\"\"\"\n",
    "\n",
    "with open(\"image.html\", \"w\") as f:\n",
    "    f.write(html)"
   ]
  }
 ],
 "metadata": {
  "kernelspec": {
   "display_name": "main",
   "language": "python",
   "name": "python3"
  },
  "language_info": {
   "codemirror_mode": {
    "name": "ipython",
    "version": 3
   },
   "file_extension": ".py",
   "mimetype": "text/x-python",
   "name": "python",
   "nbconvert_exporter": "python",
   "pygments_lexer": "ipython3",
   "version": "3.10.8"
  },
  "orig_nbformat": 4,
  "vscode": {
   "interpreter": {
    "hash": "088249665a81e93c8036df710d5b8cf66018793aa44d5d95f913d7290e7bc9d8"
   }
  }
 },
 "nbformat": 4,
 "nbformat_minor": 2
}
