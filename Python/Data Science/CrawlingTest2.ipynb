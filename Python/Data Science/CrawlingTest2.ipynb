{
 "cells": [
  {
   "cell_type": "code",
   "execution_count": 32,
   "metadata": {},
   "outputs": [
    {
     "name": "stdout",
     "output_type": "stream",
     "text": [
      "title price change volume\n",
      "삼성전자 61,600 +0.16% 6,295,382\n",
      "POSCO홀딩스 305,500 +1.66% 138,194\n",
      "카카오 61,000 +0.33% 936,165\n",
      "SK하이닉스 86,900 +1.64% 1,304,435\n",
      "NAVER 196,000 0.00% 612,212\n",
      "웹케시 15,600 +3.31% 38,154\n",
      "LG화학 617,000 -0.64% 71,219\n",
      "삼성전자우 55,500 0.00% 352,339\n",
      "에코프로에이치엔 47,050 -0.21% 19,988\n",
      "삼성바이오로직스 796,000 -0.62% 19,399\n",
      "서린바이오 12,100 0.00% 11,433\n",
      "SK텔레콤 46,900 -1.16% 291,769\n",
      "대한항공 24,450 -1.01% 807,031\n",
      "미투젠 12,850 0.00% 5,145\n",
      "톱텍 9,570 +16.71% 5,016,703\n",
      "LG전자 96,200 -0.10% 247,632\n",
      "팜스토리 1,760 +0.57% 179,699\n",
      "한국조선해양 76,100 +1.20% 66,246\n",
      "삼성SDI 614,000 +0.66% 77,761\n",
      "SK바이오팜 71,500 -0.97% 27,488\n",
      "제이에스코퍼레이션 14,550 -1.02% 13,625\n",
      "셀트리온헬스케어 57,900 -0.69% 138,846\n",
      "셀트리온 163,500 -0.30% 133,109\n",
      "엘앤에프 179,400 +0.79% 110,797\n",
      "미코 8,150 +0.25% 28,206\n",
      "폴라리스오피스 1,455 +3.93% 201,794\n",
      "엔에프씨 9,260 -0.64% 16,144\n",
      "미스터블루 3,385 -3.42% 3,507,373\n",
      "유바이오로직스 8,640 -1.03% 90,575\n",
      "KODEX 레버리지 14,855 +0.51% 16,710,245\n"
     ]
    }
   ],
   "source": [
    "from bs4 import BeautifulSoup as BS\n",
    "import requests as req\n",
    "\n",
    "url = \"https://finance.naver.com/sise/lastsearch2.nhn\"\n",
    "\n",
    "res = req.get(url)\n",
    "soup = BS(res.text, \"html.parser\")\n",
    "\n",
    "print(\"title price change volume\")\n",
    "for tr in soup.select(\"table.type_5 tr\")[2:]:\n",
    "    if len(tr.select(\"a.tltle\")) == 0:\n",
    "        continue\n",
    "    title = tr.select(\"a.tltle\")[0].get_text(strip=True)\n",
    "    price = tr.select(\"td.number:nth-child(4)\")[0].get_text(strip=True)\n",
    "    change = tr.select(\"td.number:nth-child(6)\")[0].get_text(strip=True)\n",
    "    volume = tr.select(\"td.number:nth-child(7)\")[0].get_text(strip=True)\n",
    "    print(title, price, change, volume)"
   ]
  },
  {
   "cell_type": "code",
   "execution_count": 34,
   "metadata": {},
   "outputs": [
    {
     "name": "stdout",
     "output_type": "stream",
     "text": [
      "symbol price change volume\n",
      "TSLA 127.17 -1.25% 170.292M\n",
      "AMZN 93.68 -1.86% 69.003M\n",
      "AAPL 135.27 +0.04% 58.28M\n",
      "F 12.18 -1.85% 52.12M\n",
      "AMD 67.71 -4.00% 47.19M\n",
      "NVDA 167.65 -3.52% 45.293M\n",
      "CCL 10.12 -2.97% 43.21M\n",
      "BBD 2.8700 0.00% 44.355M\n",
      "BAC 33.23 -1.45% 38.823M\n",
      "GOOGL 93.05 +2.12% 37M\n",
      "T 18.94 -0.42% 39.252M\n",
      "LUMN 5.03 -5.98% 33.358M\n",
      "NIO 10.77 -2.18% 33.333M\n",
      "AAL 16.28 -2.16% 32.422M\n",
      "SOFI 5.41 -2.70% 32.007M\n",
      "AMC 5.52 -2.30% 29.297M\n",
      "LCID 7.45 -8.70% 29.192M\n",
      "CS 3.3200 -4.87% 29.164M\n",
      "ITUB 5.10 -0.20% 28.7M\n",
      "GOOG 93.91 +2.32% 28.708M\n",
      "META 136.15 +2.35% 28.625M\n",
      "MSFT 231.93 -1.65% 28.623M\n",
      "RIVN 15.79 -4.30% 28.442M\n",
      "ABEV 2.6000 -1.89% 27.352M\n",
      "IQ 5.44 -0.18% 26.968M\n"
     ]
    }
   ],
   "source": [
    "from bs4 import BeautifulSoup as BS\n",
    "import requests as req\n",
    "from user_agent import generate_user_agent\n",
    "\n",
    "url = 'https://finance.yahoo.com/most-active'\n",
    "\n",
    "header = generate_user_agent(os='mac', device_type='desktop')\n",
    "res = req.get(url, headers={'User-Agent': header})\n",
    "soup = BS(res.text, \"html.parser\")\n",
    "\n",
    "print(\"symbol price change volume\")\n",
    "for tr in soup.select(\"table tbody tr\"):\n",
    "    symbol = tr.select(\"td:nth-child(1) a\")[0].get_text(strip=True)\n",
    "    price = tr.select(\"td:nth-child(3) fin-streamer\")[0].get_text(strip=True)\n",
    "    change = tr.select(\"td:nth-child(5) fin-streamer\")[0].get_text(strip=True)\n",
    "    volume = tr.select(\"td:nth-child(6) fin-streamer\")[0].get_text(strip=True)\n",
    "    print(symbol, price, change, volume)\n"
   ]
  }
 ],
 "metadata": {
  "kernelspec": {
   "display_name": "main",
   "language": "python",
   "name": "python3"
  },
  "language_info": {
   "codemirror_mode": {
    "name": "ipython",
    "version": 3
   },
   "file_extension": ".py",
   "mimetype": "text/x-python",
   "name": "python",
   "nbconvert_exporter": "python",
   "pygments_lexer": "ipython3",
   "version": "3.10.8 | packaged by conda-forge | (main, Nov 24 2022, 14:07:00) [MSC v.1916 64 bit (AMD64)]"
  },
  "orig_nbformat": 4,
  "vscode": {
   "interpreter": {
    "hash": "088249665a81e93c8036df710d5b8cf66018793aa44d5d95f913d7290e7bc9d8"
   }
  }
 },
 "nbformat": 4,
 "nbformat_minor": 2
}
