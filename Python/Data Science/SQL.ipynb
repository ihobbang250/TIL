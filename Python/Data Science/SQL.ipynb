{
 "cells": [
  {
   "cell_type": "code",
   "execution_count": 9,
   "metadata": {},
   "outputs": [],
   "source": [
    "import sqlite3\n",
    "\n",
    "#CREATE\n",
    "conn = sqlite3.connect('SQL_DDL.db')\n",
    "\n",
    "# Cursor\n",
    "cur = conn.cursor()\n",
    "\n",
    "# Command line\n",
    "CREATE_SQL = \"\"\"\n",
    "    CREATE TABLE IF NOT EXISTS Item(\n",
    "        id integer primary key autoincrement,\n",
    "        code text not null,\n",
    "        name text not null,\n",
    "        price integer not null\n",
    "    );\n",
    "\"\"\"\n",
    "\n",
    "cur.execute(CREATE_SQL)\n",
    "\n",
    "conn.close()"
   ]
  },
  {
   "cell_type": "code",
   "execution_count": 10,
   "metadata": {},
   "outputs": [],
   "source": [
    "# INSERT\n",
    "conn = sqlite3.connect('SQL_DDL.db')\n",
    " \n",
    "cur = conn.cursor()\n",
    "\n",
    "INSERT_SQL = \"INSERT INTO item(code, name, price) VALUES (?, ?, ?);\"\n",
    "\n",
    "data = (\n",
    "    ('A002', '에어컨', 450000),\n",
    "    ('A003', '스마트폰', 900000),\n",
    "    ('A004', '노트북', 650000)\n",
    ")\n",
    "\n",
    "# SQL command\n",
    "cur.execute(INSERT_SQL, ('A001', '마우스', '30000'))\n",
    "\n",
    "# INSERT, UPDATE, DELETE commit 해야 반영\n",
    "cur.executemany(INSERT_SQL, data)\n",
    "\n",
    "conn.commit()\n",
    "\n",
    "conn.close()"
   ]
  },
  {
   "cell_type": "code",
   "execution_count": 11,
   "metadata": {},
   "outputs": [
    {
     "name": "stdout",
     "output_type": "stream",
     "text": [
      "(1, 'A001', '마우스', 30000)\n",
      "(2, 'A002', '에어컨', 450000)\n",
      "(3, 'A003', '스마트폰', 900000)\n",
      "(4, 'A004', '노트북', 650000)\n"
     ]
    }
   ],
   "source": [
    "conn = sqlite3.connect('SQL_DDL.db')\n",
    "\n",
    "cur = conn.cursor()\n",
    "\n",
    "SELECT_SQL = \"SELECT * FROM item;\"\n",
    "\n",
    "cur.execute(SELECT_SQL)\n",
    "\n",
    "rows = cur.fetchall()\n",
    "for row in rows:\n",
    "    print(row)\n",
    "\n",
    "conn.close()"
   ]
  }
 ],
 "metadata": {
  "kernelspec": {
   "display_name": "main",
   "language": "python",
   "name": "python3"
  },
  "language_info": {
   "codemirror_mode": {
    "name": "ipython",
    "version": 3
   },
   "file_extension": ".py",
   "mimetype": "text/x-python",
   "name": "python",
   "nbconvert_exporter": "python",
   "pygments_lexer": "ipython3",
   "version": "3.10.8 | packaged by conda-forge | (main, Nov 24 2022, 14:07:00) [MSC v.1916 64 bit (AMD64)]"
  },
  "orig_nbformat": 4,
  "vscode": {
   "interpreter": {
    "hash": "2df62e60ab6b065ed485e2ad2e36848cb78a62198b8dd6aa1e15eb825917756a"
   }
  }
 },
 "nbformat": 4,
 "nbformat_minor": 2
}
