{
 "cells": [
  {
   "cell_type": "code",
   "execution_count": 1,
   "metadata": {},
   "outputs": [
    {
     "name": "stdout",
     "output_type": "stream",
     "text": [
      "--------------------------------\n",
      "환율계산기\n",
      "--------------------------------\n",
      "\n",
      "미국 USD : 1,233.00원\n",
      "일본 JPY(100엔) : 964.37원\n",
      "유럽연합 EUR : 1,332.01원\n",
      "중국 CNY : 181.95원\n",
      "달러/일본 엔 : 128.1200원\n",
      "유로/달러 : 1.0861원\n",
      "영국 파운드/달러 : 1.2410원\n",
      "달러인덱스 : 102.1000원\n",
      "WTI : 79.8원\n",
      "휘발유 : 1560.9원\n",
      "국제 금 : 1907.0원\n",
      "국내 금 : 75649.11원\n",
      "\n",
      "1.6달러로 환전\n"
     ]
    }
   ],
   "source": [
    "# requests text 데이터 받아와 원하는 문자열 추출\n",
    "import requests as req\n",
    "import re\n",
    "\n",
    "res = req.get(\"https://finance.naver.com/marketindex/?tabSel=exchange#tab_section\")\n",
    "\n",
    "body = res.text\n",
    "\n",
    "r = re.compile(r\"h_lst.*?blind\\\">(.*?)</span>.*?value\\\">(.*?)</\", re.DOTALL)\n",
    "captures = r.findall(body)\n",
    "\n",
    "print(\"--------------------------------\")\n",
    "print(\"환율계산기\")\n",
    "print(\"--------------------------------\")\n",
    "print(\"\")\n",
    "\n",
    "for c in captures:\n",
    "    print(f\"{c[0]} : {c[1]}원\")\n",
    "\n",
    "print()\n",
    "usd = float(captures[0][1].replace(\",\", \"\"))\n",
    "won = int(input(\"달러로 바꾸길 원하는 금액(원) 입력해주세요: \"))\n",
    "dollar = round((won / usd), 1)\n",
    "print(f\"{dollar}달러로 환전\")"
   ]
  },
  {
   "cell_type": "code",
   "execution_count": 2,
   "metadata": {},
   "outputs": [
    {
     "name": "stdout",
     "output_type": "stream",
     "text": [
      "['미국 USD', '유럽연합 EUR', '일본 JPY (100엔)', '중국 CNY', '홍콩 HKD', '대만 TWD', '영국 GBP', '오만 OMR', '캐나다 CAD', '스위스 CHF', '스웨덴 SEK', '호주 AUD', '뉴질랜드 NZD', '체코 CZK', '칠레 CLP', '튀르키예 TRY', '몽골 MNT', '이스라엘 ILS', '덴마크 DKK', '노르웨이 NOK', '사우디아라비아 SAR', '쿠웨이트 KWD', '바레인 BHD', '아랍에미리트 AED', '요르단 JOD', '이집트 EGP', '태국 THB', '싱가포르 SGD', '말레이시아 MYR', '인도네시아 IDR 100', '카타르 QAR', '카자흐스탄 KZT', '브루나이 BND', '인도 INR', '파키스탄 PKR', '방글라데시 BDT', '필리핀 PHP', '멕시코 MXN', '브라질 BRL', '베트남 VND 100', '남아프리카 공화국 ZAR', '러시아 RUB', '헝가리 HUF', '폴란드 PLN', '스리랑카 LKR', '알제리 DZD', '케냐 KES', '콜롬비아 COP', '탄자니아 TZS', '네팔 NPR', '루마니아 RON', '리비아 LYD', '마카오 MOP', '미얀마 MMK', '에티오피아 ETB', '우즈베키스탄 UZS', '캄보디아 KHR', '피지 FJD']\n",
      "['1,233.00', '1,332.01', '964.37', '181.95', '157.52', '40.63', '1,521.58', '3,206.76', '913.81', '1,346.00', '119.33', '850.83', '790.97', '55.59', '1.50', '65.64', '0.36', '363.40', '179.02', '124.21', '328.23', '4,038.78', '3,270.73', '335.68', '1,738.46', '41.55', '37.28', '932.61', '285.52', '8.18', '337.44', '2.66', '932.61', '15.15', '5.37', '11.53', '22.56', '65.15', '237.72', '5.26', '72.01', '17.92', '3.37', '281.77', '3.35', '9.07', '9.93', '0.26', '0.53', '9.47', '269.79', '258.14', '152.86', '0.59', '22.99', '0.11', '0.30', '566.56']\n"
     ]
    }
   ],
   "source": [
    "from bs4 import BeautifulSoup as BS\n",
    "import requests as req\n",
    "\n",
    "res = req.get(\"https://finance.naver.com/marketindex/exchangeList.nhn\")\n",
    "soup = BS(res.text, 'html.parser')\n",
    "\n",
    "tds = soup.find_all(\"td\")\n",
    "\n",
    "names = []\n",
    "\n",
    "for td in tds:\n",
    "    if len(td.find_all(\"a\")) == 0:\n",
    "        continue\n",
    "    names.append(td.get_text(strip=True))\n",
    "    \n",
    "prices = []\n",
    "for td in tds:\n",
    "    if \"class\" in td.attrs:\n",
    "        if \"sale\" in td.attrs[\"class\"]:\n",
    "            prices.append(td.get_text(strip=True))\n",
    "\n",
    "print(names)\n",
    "print(prices)"
   ]
  },
  {
   "cell_type": "code",
   "execution_count": 3,
   "metadata": {},
   "outputs": [
    {
     "name": "stdout",
     "output_type": "stream",
     "text": [
      "1번째 페이지 가져오기 완료\n",
      "1\n"
     ]
    }
   ],
   "source": [
    "import time\n",
    "import requests\n",
    "from bs4 import BeautifulSoup\n",
    "\n",
    "# 빈 리스트 생성\n",
    "pages = []\n",
    "\n",
    "# 첫 페이지 번호 지정\n",
    "page_num = 1\n",
    "\n",
    "# headers 지정\n",
    "headers = {\n",
    "    'user-agent': 'Mozilla/5.0 (Macintosh; Intel Mac OS X 11_2_3) AppleWebKit/537.36 (KHTML, like Gecko) Chrome/89.0.4389.114 Safari/537.36',\n",
    "}\n",
    "\n",
    "while True:\n",
    "    # HTML 코드 받아오기, 위에서 지정해 준 headers 설정해 주기\n",
    "    response = requests.get(\"http://www.ssg.com/search.ssg?target=all&query=nintendo&page=\" + str(page_num), headers=headers)\n",
    "\n",
    "    # BeautifulSoup 타입으로 변환하기\n",
    "    soup = BeautifulSoup(response.text, 'html.parser')\n",
    "\n",
    "    # \".csrch_tip\" 클래스가 없을 때만 HTML 코드를 리스트에 담기\n",
    "    if len(soup.select('.csrch_tip')) == 0:\n",
    "        pages.append(soup)\n",
    "        print(str(page_num) + \"번째 페이지 가져오기 완료\")\n",
    "        page_num += 1\n",
    "        time.sleep(1)\n",
    "        break #쿠키값 설정x 무한루프생성 임시로 루프탈출\n",
    "    else:\n",
    "        break\n",
    "\n",
    "# 가져온 페이지 개수 출력하기\n",
    "print(len(pages))"
   ]
  },
  {
   "cell_type": "code",
   "execution_count": 3,
   "metadata": {},
   "outputs": [
    {
     "data": {
      "text/html": [
       "<div>\n",
       "<style scoped>\n",
       "    .dataframe tbody tr th:only-of-type {\n",
       "        vertical-align: middle;\n",
       "    }\n",
       "\n",
       "    .dataframe tbody tr th {\n",
       "        vertical-align: top;\n",
       "    }\n",
       "\n",
       "    .dataframe thead th {\n",
       "        text-align: right;\n",
       "    }\n",
       "</style>\n",
       "<table border=\"1\" class=\"dataframe\">\n",
       "  <thead>\n",
       "    <tr style=\"text-align: right;\">\n",
       "      <th></th>\n",
       "      <th>period</th>\n",
       "      <th>rank</th>\n",
       "      <th>channel</th>\n",
       "      <th>program</th>\n",
       "      <th>rating</th>\n",
       "    </tr>\n",
       "  </thead>\n",
       "  <tbody>\n",
       "    <tr>\n",
       "      <th>0</th>\n",
       "      <td>2009.12.28 ~ 2010.01.03</td>\n",
       "      <td>1</td>\n",
       "      <td>KBS2</td>\n",
       "      <td>주말연속극(수상한삼형제)</td>\n",
       "      <td>33.4</td>\n",
       "    </tr>\n",
       "    <tr>\n",
       "      <th>1</th>\n",
       "      <td>2009.12.28 ~ 2010.01.03</td>\n",
       "      <td>2</td>\n",
       "      <td>KBS1</td>\n",
       "      <td>일일연속극(다함께차차차)</td>\n",
       "      <td>33.1</td>\n",
       "    </tr>\n",
       "    <tr>\n",
       "      <th>2</th>\n",
       "      <td>2009.12.28 ~ 2010.01.03</td>\n",
       "      <td>3</td>\n",
       "      <td>KBS2</td>\n",
       "      <td>해피선데이</td>\n",
       "      <td>27.1</td>\n",
       "    </tr>\n",
       "    <tr>\n",
       "      <th>3</th>\n",
       "      <td>2009.12.28 ~ 2010.01.03</td>\n",
       "      <td>4</td>\n",
       "      <td>MBC</td>\n",
       "      <td>MBC연기대상2부</td>\n",
       "      <td>24.4</td>\n",
       "    </tr>\n",
       "    <tr>\n",
       "      <th>4</th>\n",
       "      <td>2009.12.28 ~ 2010.01.03</td>\n",
       "      <td>5</td>\n",
       "      <td>SBS</td>\n",
       "      <td>주말극장(천만번사랑해)</td>\n",
       "      <td>24.2</td>\n",
       "    </tr>\n",
       "  </tbody>\n",
       "</table>\n",
       "</div>"
      ],
      "text/plain": [
       "                    period rank channel        program rating\n",
       "0  2009.12.28 ~ 2010.01.03    1    KBS2  주말연속극(수상한삼형제)   33.4\n",
       "1  2009.12.28 ~ 2010.01.03    2    KBS1  일일연속극(다함께차차차)   33.1\n",
       "2  2009.12.28 ~ 2010.01.03    3    KBS2          해피선데이   27.1\n",
       "3  2009.12.28 ~ 2010.01.03    4     MBC      MBC연기대상2부   24.4\n",
       "4  2009.12.28 ~ 2010.01.03    5     SBS   주말극장(천만번사랑해)   24.2"
      ]
     },
     "execution_count": 3,
     "metadata": {},
     "output_type": "execute_result"
    }
   ],
   "source": [
    "import requests\n",
    "import pandas as pd\n",
    "from bs4 import BeautifulSoup\n",
    "\n",
    "# 여기에 코드를 작성하세요\n",
    "\n",
    "records = []\n",
    "\n",
    "for year in range(2010, 2011):\n",
    "    for month in range(1, 13):\n",
    "        for week in range(0, 6):\n",
    "            quiry = \"?year={}&month={}&weekIndex={}\".format(year, month, week)\n",
    "            resp = requests.get(\"https://workey.codeit.kr/ratings/index\"+quiry)\n",
    "            page = resp.text\n",
    "            soup = BeautifulSoup(page, \"html.parser\")\n",
    "            if len(soup.select(\"td.program\")) != 0:\n",
    "                period = soup.select(\"#weekSelectBox option\")\n",
    "                rank = soup.select(\"td.rank\")\n",
    "                channel = soup.select(\"td.channel\")\n",
    "                program = soup.select(\"td.program\")\n",
    "                rating = soup.select(\"td.percent\")\n",
    "                for i in range(0, len(period)):\n",
    "                    for j in range(0, 10):\n",
    "                        record = [] \n",
    "                        record.append(period[i].text)\n",
    "                        record.append(rank[j].text)\n",
    "                        record.append(channel[j].text)\n",
    "                        record.append(program[j].text)\n",
    "                        record.append(rating[j].text)\n",
    "                        records.append(record)\n",
    "\n",
    "df = pd.DataFrame(data = records, columns=['period', 'rank', 'channel', 'program', 'rating'])\n",
    "df.head()\n"
   ]
  }
 ],
 "metadata": {
  "kernelspec": {
   "display_name": "main",
   "language": "python",
   "name": "python3"
  },
  "language_info": {
   "codemirror_mode": {
    "name": "ipython",
    "version": 3
   },
   "file_extension": ".py",
   "mimetype": "text/x-python",
   "name": "python",
   "nbconvert_exporter": "python",
   "pygments_lexer": "ipython3",
   "version": "3.10.8 | packaged by conda-forge | (main, Nov 24 2022, 14:07:00) [MSC v.1916 64 bit (AMD64)]"
  },
  "orig_nbformat": 4,
  "vscode": {
   "interpreter": {
    "hash": "2df62e60ab6b065ed485e2ad2e36848cb78a62198b8dd6aa1e15eb825917756a"
   }
  }
 },
 "nbformat": 4,
 "nbformat_minor": 2
}
