{
 "cells": [
  {
   "cell_type": "code",
   "execution_count": 16,
   "metadata": {},
   "outputs": [
    {
     "name": "stdout",
     "output_type": "stream",
     "text": [
      "[프로브]을 생산합니다.\n",
      "[프로브] 체력: [20] 방어막: [4] 공격력: [5]\n",
      "7\n",
      "생성된 유닛 개수 : [4]개\n"
     ]
    }
   ],
   "source": [
    "#Class Exmaple\n",
    "\n",
    "# Unit info\n",
    "unit_info = {\n",
    "    \"probe\" : {\n",
    "        \"name\" : \"프로브\",\n",
    "        \"mineral\" : 50,\n",
    "        \"gas\" : 0,\n",
    "        \"hp\" : 20,\n",
    "        \"shield\" : 20,\n",
    "        \"demage\" : 5\n",
    "    },\n",
    "    \"zealot\" : {\n",
    "        \"name\" : \"질럿\",\n",
    "        \"mineral\" : 100,\n",
    "        \"gas\" : 0,\n",
    "        \"hp\" : 100,\n",
    "        \"shield\" : 60,\n",
    "        \"demage\" : 16\n",
    "        \n",
    "    },\n",
    "    \"dragoon\" : {\n",
    "        \"name\" : \"드라군\",\n",
    "        \"mineral\" : 125,\n",
    "        \"gas\" : 50,\n",
    "        \"hp\" : 100,\n",
    "        \"shield\" : 80,\n",
    "        \"demage\" : 20\n",
    "    }\n",
    "}\n",
    "\n",
    "# Unit Class\n",
    "class Unit:\n",
    "    \n",
    "    count = 0 # class\n",
    "    \n",
    "    def __init__(self, name, hp, shield, demage):\n",
    "        self.name = name\n",
    "        self.hp = hp\n",
    "        self.shield = shield\n",
    "        self.demage = demage\n",
    "        Unit.count += 1\n",
    "\n",
    "    # Magic method\n",
    "    # Using in special case\n",
    "    # str -> print object\n",
    "    def __str__(self): \n",
    "        return f\"[{self.name}] 체력: [{self.hp}] 방어막: [{self.shield}] 공격력: [{self.demage}]\"\n",
    "    \n",
    "    # Instance method\n",
    "    def hit(self, demage):\n",
    "        if self.shield >= demage:\n",
    "            self.shield -= demage\n",
    "            demage = 0\n",
    "        else:\n",
    "            demage -= self.shield\n",
    "            self.shield = 0\n",
    "        \n",
    "        if demage > 0:\n",
    "            if demage >= self.hp:\n",
    "                self.hp = 0\n",
    "            else:\n",
    "                self.hp -= demage\n",
    "    \n",
    "    # Class method \n",
    "    # Approach to class attribution\n",
    "    @classmethod\n",
    "    def print_count(cls):\n",
    "        print(f\"생성된 유닛 개수 : [{cls.count}]개\")\n",
    "\n",
    "    #static method\n",
    "    # No need to make instance\n",
    "    @staticmethod\n",
    "    def add(x, y):\n",
    "        return x + y\n",
    "     \n",
    "# Player Class\n",
    "class Player:\n",
    "    \n",
    "    def __init__(self, nickname, mineral, gas, unit_list = []):\n",
    "        self.nickname = nickname\n",
    "        self.mineral = mineral\n",
    "        self.gas = gas\n",
    "        self.unit_list = unit_list\n",
    "        \n",
    "    def produce(self, name, mineral, gas, hp, shield, demage):\n",
    "        if mineral > self.mineral:\n",
    "            print(\"미네랄 부족\")\n",
    "        elif gas > self.gas:\n",
    "            print(\"가스 부족\")\n",
    "        else:\n",
    "            self.mineral -= mineral\n",
    "            self.gas -= gas\n",
    "            unit = Unit(name, hp, shield, demage)\n",
    "            self.unit_list.append(unit)\n",
    "            print(f\"[{name}]을 생산합니다.\")\n",
    "    \n",
    "probe = Unit(\"프로브\", 20, 20, 5)\n",
    "zealot = Unit(\"질럿\", 100, 60, 16)\n",
    "dragoon = Unit(\"드라군\", 100, 80, 20)\n",
    "\n",
    "player1 = Player(\"Bisu\", 400, 10)\n",
    "player1.produce(unit_info['probe']['name'], unit_info['probe']['mineral'], unit_info['probe']['gas'],\n",
    "                unit_info[\"probe\"]['hp'], unit_info['probe']['shield'], unit_info['probe']['demage'])\n",
    "\n",
    "probe.hit(16)\n",
    "print(probe)\n",
    "print(Unit.add(3, 4))\n",
    "Unit.print_count()"
   ]
  },
  {
   "cell_type": "code",
   "execution_count": 4,
   "metadata": {},
   "outputs": [
    {
     "name": "stdout",
     "output_type": "stream",
     "text": [
      "[2, 5, 7]\n",
      "[2, 5, 7]\n"
     ]
    }
   ],
   "source": [
    "#List Comprehensions & Lambda & fliter Example\n",
    "a = [2, 5, 7, -2, -12]\n",
    "k1 = [i for i in a if i >= 0]\n",
    "k2 = list(filter(lambda x : x >= 0, a))\n",
    "\n",
    "print(k1)\n",
    "print(k2)"
   ]
  },
  {
   "cell_type": "code",
   "execution_count": 7,
   "metadata": {},
   "outputs": [
    {
     "name": "stdout",
     "output_type": "stream",
     "text": [
      "7\n",
      "12\n",
      "입력한 데이터는 2\n",
      "14\n"
     ]
    }
   ],
   "source": [
    "# 일급 객체\n",
    "\"\"\"\n",
    "1. 데이터처럼 사용가능\n",
    "2. 매개변수에 넘겨줄수 있다.\n",
    "3.  \n",
    "\"\"\"\n",
    "\n",
    "# 1. Exmaple\n",
    "def func(x, y):\n",
    "    return x + y\n",
    "\n",
    "def mul(x, y):\n",
    "    return x * y\n",
    "\n",
    "def div(x, y):\n",
    "    return x / y\n",
    "\n",
    "add = func # 데이터처럼 사용\n",
    "print(add(3, 4))\n",
    "calculator = [mul, div] # 데이터처럼 사용\n",
    "print(calculator[0](3, 4))\n",
    "\n",
    "# 2. Exmaple\n",
    "def inputData():\n",
    "    data = input(\"data:\")\n",
    "    return data\n",
    "\n",
    "def start(function):\n",
    "    print(\"입력한 데이터는\",function())\n",
    "\n",
    "start(inputData)\n",
    "\n",
    "# 3. 리턴값으로 사용 가능\n",
    "def plusTen(a):\n",
    "    return a + 10\n",
    "\n",
    "def func2(x):\n",
    "    return plusTen(x)\n",
    "\n",
    "print(func2(4))"
   ]
  },
  {
   "cell_type": "code",
   "execution_count": 11,
   "metadata": {},
   "outputs": [
    {
     "name": "stdout",
     "output_type": "stream",
     "text": [
      "나미 님 안녕하세요!\n",
      "나이:  27\n",
      "성별:  female\n",
      "27\n",
      "female\n",
      "나미\n"
     ]
    }
   ],
   "source": [
    "# 내부 함수\n",
    "# 함수 안에 또다른 함수를 정의 가능\n",
    "# 함수가 종료되어도 자원을 사용할수 있는 함수\n",
    "# 클로저가 될 조건\n",
    "# 1) 내부 함수\n",
    "# 2) 외부 함수의 변수 참조\n",
    "# 3) 외부 함수가 내부 함수를 반환\n",
    "\n",
    "def greeting(name, age, gender):\n",
    "    def inner():\n",
    "        print(name, \"님 안녕하세요!\")\n",
    "        print(\"나이: \", age)\n",
    "        print(\"성별: \", gender)\n",
    "    return inner\n",
    "\n",
    "closure = greeting('나미', 27, 'female')\n",
    "closure()\n",
    "\n",
    "for i in closure.__closure__:\n",
    "    print(i.cell_contents)"
   ]
  },
  {
   "cell_type": "code",
   "execution_count": 14,
   "metadata": {},
   "outputs": [
    {
     "name": "stdout",
     "output_type": "stream",
     "text": [
      "10\n",
      "20\n",
      "30\n"
     ]
    }
   ],
   "source": [
    "# Iterable Object\n",
    "\n",
    "iter_obj = [10, 20, 30].__iter__()\n",
    "\n",
    "print(iter_obj.__next__())\n",
    "print(iter_obj.__next__())\n",
    "print(iter_obj.__next__())"
   ]
  },
  {
   "cell_type": "code",
   "execution_count": 18,
   "metadata": {},
   "outputs": [
    {
     "name": "stdout",
     "output_type": "stream",
     "text": [
      "spring\n",
      "summer\n",
      "autumn\n",
      "winter\n",
      "spring\n",
      "summer\n",
      "autumn\n",
      "winter\n"
     ]
    }
   ],
   "source": [
    "# Iterator 원리\n",
    "\n",
    "class Seasons:\n",
    "    def __init__(self):\n",
    "        self.season_list = ['spring', 'summer', 'autumn', 'winter']\n",
    "        self.idx = 0\n",
    "        self.max_num = 4\n",
    "    \n",
    "    def __iter__(self):\n",
    "        return self # 객체 자기자신을 리턴\n",
    "    \n",
    "    def __next__(self):\n",
    "        if self.idx < self.max_num:\n",
    "            curr_idx = self.idx\n",
    "            self.idx += 1\n",
    "            return self.season_list[curr_idx]\n",
    "        else:\n",
    "            raise StopIteration\n",
    "        \n",
    "for i in Seasons():\n",
    "    print(i)\n",
    "    \n",
    "iter_obj = Seasons().__iter__()\n",
    "\n",
    "print(iter_obj.__next__())\n",
    "print(iter_obj.__next__())\n",
    "print(iter_obj.__next__())\n",
    "print(iter_obj.__next__())"
   ]
  },
  {
   "cell_type": "code",
   "execution_count": 23,
   "metadata": {},
   "outputs": [
    {
     "name": "stdout",
     "output_type": "stream",
     "text": [
      "spring\n"
     ]
    }
   ],
   "source": [
    "# 제너레이터\n",
    "\n",
    "# 이터레이터를 만드는 함수\n",
    "def season_generator(*args):\n",
    "    for arg in args:\n",
    "        yield arg\n",
    "        \n",
    "g = season_generator('spring', 'summer', 'autumn', 'winter')\n",
    "print(g.__next__())"
   ]
  },
  {
   "cell_type": "code",
   "execution_count": 31,
   "metadata": {},
   "outputs": [
    {
     "name": "stdout",
     "output_type": "stream",
     "text": [
      "첫번쨰 작업 중..\n",
      "1\n"
     ]
    }
   ],
   "source": [
    "# generator Example\n",
    "# return -> 함수 바로 종료\n",
    "# yield -> 이어하기 \n",
    "def func():\n",
    "    print(\"첫번쨰 작업 중..\")\n",
    "    yield 1\n",
    "    \n",
    "    print(\"두번쨰 작업 중..\")\n",
    "    yield 2\n",
    "    \n",
    "    print(\"세번쨰 작업 중\")\n",
    "    yield 3\n",
    "    \n",
    "ge = func()\n",
    "data = ge.__next__()\n",
    "print(data)"
   ]
  },
  {
   "cell_type": "code",
   "execution_count": 33,
   "metadata": {},
   "outputs": [
    {
     "name": "stdout",
     "output_type": "stream",
     "text": [
      "85176\n",
      "104\n"
     ]
    }
   ],
   "source": [
    "# Generator Expression\n",
    "import sys\n",
    "\n",
    "# 리스트 : 데이터 저장에 필요한 메모리를 모두 사용\n",
    "# 제너레이터 : 나중에 필요할 때 값을 만들어 사용 (메모리)\n",
    "list_data = [i*3 for i in range(1, 10001)]\n",
    "generator_data = (i*3 for i in range(1, 10001))\n",
    "\n",
    "print(sys.getsizeof(list_data))\n",
    "print(sys.getsizeof(generator_data))"
   ]
  },
  {
   "cell_type": "code",
   "execution_count": 39,
   "metadata": {},
   "outputs": [
    {
     "name": "stdout",
     "output_type": "stream",
     "text": [
      "함수 시작\n",
      "hello startcoding\n",
      "함수 끝\n",
      "함수 시작\n",
      "bye fastcampus\n",
      "함수 끝\n"
     ]
    }
   ],
   "source": [
    "# Decorator\n",
    "# 클로저를 이용해서 생성\n",
    "# 함수의 앞, 뒤로 부가적인 기능을 넣어주고 싶을 때 사용\n",
    "# 로깅, 권한확인\n",
    "\n",
    "#데코레이터 생성하기\n",
    "def logger(func):\n",
    "    def wrapper(arg):\n",
    "        print(\"함수 시작\")\n",
    "        func(arg)\n",
    "        print(\"함수 끝\")\n",
    "    return wrapper\n",
    "\n",
    "@logger\n",
    "def print_hello(name):\n",
    "    print(\"hello\", name)\n",
    "    \n",
    "@logger    \n",
    "def print_bye(name):\n",
    "    print(\"bye\", name)\n",
    "    \n",
    "print_hello('startcoding')\n",
    "print_bye('fastcampus')"
   ]
  }
 ],
 "metadata": {
  "kernelspec": {
   "display_name": "main",
   "language": "python",
   "name": "python3"
  },
  "language_info": {
   "codemirror_mode": {
    "name": "ipython",
    "version": 3
   },
   "file_extension": ".py",
   "mimetype": "text/x-python",
   "name": "python",
   "nbconvert_exporter": "python",
   "pygments_lexer": "ipython3",
   "version": "3.10.8"
  },
  "orig_nbformat": 4,
  "vscode": {
   "interpreter": {
    "hash": "2df62e60ab6b065ed485e2ad2e36848cb78a62198b8dd6aa1e15eb825917756a"
   }
  }
 },
 "nbformat": 4,
 "nbformat_minor": 2
}
